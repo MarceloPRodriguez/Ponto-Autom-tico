{
 "cells": [
  {
   "cell_type": "code",
   "execution_count": 37,
   "id": "629641b3",
   "metadata": {},
   "outputs": [],
   "source": [
    "# O objetido dessa automação é fazer com que esse código registre o ponto de entrada do usuário.\n",
    "# Fazendo os imports necessários\n",
    "import pyautogui as py\n",
    "import time\n",
    "import win32com.client as win32\n",
    "\n",
    "def envia_email():\n",
    "    # Criando integração do python com outlook\n",
    "    outlook = win32.Dispatch('outlook.application')\n",
    "\n",
    "# Criando email\n",
    "    email = outlook.CreateItem(0)\n",
    "\n",
    "# Configurar as informações do e-mail\n",
    "    email.To = \"marcelo.prodrigues@hotmail.com\"\n",
    "    email.Subject = \"Ponto de Entrada\"\n",
    "    email.HTMLBody = f\"\"\"\n",
    "    <p> Olá email enviado automaticamente pelo pyhton</p>\n",
    "    <p> Você acabou de registrar seu ponto! </p>\n",
    "    <p> Não responda esse email </p>\n",
    "    \"\"\" \n",
    "    email.Send()\n",
    "    py.alert(\"Fim da execução!\")\n",
    "    \n",
    "def registra_ponto():\n",
    "\n",
    "    # Mensagem de aviso de inicio de operação\n",
    "    py.alert(\"Iniciando operação, Não mexa no computador até o final da execução!\")\n",
    "\n",
    "    # Pausando operação brevemente\n",
    "    py.PAUSE = 0.5\n",
    "\n",
    "    #----- Movendo mouse e abrindo o chrome --------\n",
    "    py.moveTo(x=117, y=736) # move ponteiro\n",
    "    py.rightClick()  # clicar botão direito do mouse\n",
    "\n",
    "    py.moveTo(x=95, y=565)\n",
    "    py.click() # clique com botão esquerdo do mouse\n",
    "\n",
    "    #-----Fim de abertura de nova guia do Chrome ---\n",
    "\n",
    "    # Digitando endereço web do site ponto\n",
    "    py.PAUSE = 1.0\n",
    "\n",
    "    py.moveTo(x=238, y=48)\n",
    "    py.click()\n",
    "    py.write('jota9celulares.com.br/regional/acessox') # Escrevendo site\n",
    "    py.press('enter')\n",
    "\n",
    "    py.PAUSE = 1.0\n",
    "\n",
    "    # Nesse momento página do ponto estará aberta\n",
    "    # -----Na página do ponto-------\n",
    "    # Selecionando a unidade\n",
    "    py.moveTo(x=653, y=306)\n",
    "    py.click()\n",
    "    py.moveTo(x=560, y=503)\n",
    "    py.click()\n",
    "\n",
    "    # Selecionando o ponto\n",
    "    py.moveTo(x=454, y=395)\n",
    "    py.click()\n",
    "    py.moveTo(x=456, y=484)#(x=567, y=429)\n",
    "    py.click()\n",
    "\n",
    "    # Inserindo usuário e senha\n",
    "    py.moveTo(x=577, y=430)\n",
    "    py.click()\n",
    "    py.write('marcelo')\n",
    "    py.press('tab')\n",
    "    py.write('M1234!')\n",
    "\n",
    "    # Registrando meu ponto\n",
    "    py.moveTo(x=771, y=582)\n",
    "    py.click()\n",
    "\n",
    "    envia_email()\n",
    "\n",
    "def main():\n",
    "    registra_ponto()\n",
    "\n",
    "main()"
   ]
  },
  {
   "cell_type": "code",
   "execution_count": 36,
   "id": "69ea8d4c",
   "metadata": {},
   "outputs": [
    {
     "data": {
      "text/plain": [
       "Point(x=456, y=484)"
      ]
     },
     "execution_count": 36,
     "metadata": {},
     "output_type": "execute_result"
    }
   ],
   "source": [
    "py.position()"
   ]
  },
  {
   "cell_type": "code",
   "execution_count": null,
   "id": "e58e1cdb",
   "metadata": {},
   "outputs": [],
   "source": []
  }
 ],
 "metadata": {
  "kernelspec": {
   "display_name": "Python 3 (ipykernel)",
   "language": "python",
   "name": "python3"
  },
  "language_info": {
   "codemirror_mode": {
    "name": "ipython",
    "version": 3
   },
   "file_extension": ".py",
   "mimetype": "text/x-python",
   "name": "python",
   "nbconvert_exporter": "python",
   "pygments_lexer": "ipython3",
   "version": "3.9.7"
  }
 },
 "nbformat": 4,
 "nbformat_minor": 5
}
